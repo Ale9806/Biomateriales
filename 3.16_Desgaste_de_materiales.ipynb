{
 "cells": [
  {
   "cell_type": "code",
   "execution_count": 1,
   "metadata": {},
   "outputs": [],
   "source": [
    "import pandas as pd \n",
    "import matplotlib.pyplot as plt\n",
    "import numpy as np"
   ]
  },
  {
   "attachments": {},
   "cell_type": "markdown",
   "metadata": {},
   "source": [
    "##  Ensayo de desgaste\n",
    "\n",
    "En un ensayo de desgaste realizado en un aparato de rueda de goma y arena seca (ASTM-G65), con un diámetro de rueda de 8” y 0.5” de ancho una velocidad angular de 50 rpm durante el tiempo indicado y una carga aplicada de 130 N.\n",
    "\n",
    "$$ V = K \\frac{F_N}{H}d $$\n",
    "\n",
    "$$ \\delta =K \\frac{F_N}{H} \\frac{d}{A} =  \\frac{V}{A} $$\n",
    "\n",
    "Donde:\n",
    "* $A$: Area de contacto $ [m^2] $\n",
    "* $V$: Volumen de desgaste  $ [m^3] $\n",
    "* $K$: Coeficiente de desgaste\n",
    "* $ F_N$ : Fuerza normal aplicada durante ensayo $ [Kg] $\n",
    "* $ \\delta $: Profuniddad de desgaste $ [m] $\n",
    "* $H$: Dureza del material menos duro $ [Pa] $\n",
    "\n",
    "**Determinar:**\n",
    "\n",
    "A) La masa perdida si se trata de un acero AISI 316L borurado con una densidad 6.92 g/cm3 y una dureza de 1685 Kg/mm2\n",
    "\n",
    "B) El coeficiente de desgaste (K) del material en cuestión\n",
    "\n",
    "C) La profundidad de la huella de desgaste si la longitud de la misma resultó de 6.5, 7.0, 7.5, 8.0, 8.5 cm. respectivamente.\n"
   ]
  },
  {
   "cell_type": "code",
   "execution_count": 2,
   "metadata": {},
   "outputs": [
    {
     "data": {
      "text/html": [
       "<div>\n",
       "<style scoped>\n",
       "    .dataframe tbody tr th:only-of-type {\n",
       "        vertical-align: middle;\n",
       "    }\n",
       "\n",
       "    .dataframe tbody tr th {\n",
       "        vertical-align: top;\n",
       "    }\n",
       "\n",
       "    .dataframe thead th {\n",
       "        text-align: right;\n",
       "    }\n",
       "</style>\n",
       "<table border=\"1\" class=\"dataframe\">\n",
       "  <thead>\n",
       "    <tr style=\"text-align: right;\">\n",
       "      <th></th>\n",
       "      <th>Tiempo  (min)</th>\n",
       "      <th>Deslizamiento (m)</th>\n",
       "      <th>Tratamiento 2h</th>\n",
       "      <th>Tratamiento 4h</th>\n",
       "      <th>Tratamiento 6h</th>\n",
       "    </tr>\n",
       "  </thead>\n",
       "  <tbody>\n",
       "    <tr>\n",
       "      <th>0</th>\n",
       "      <td>1</td>\n",
       "      <td>31.918</td>\n",
       "      <td>0.4000</td>\n",
       "      <td>0.3852</td>\n",
       "      <td>0.7407</td>\n",
       "    </tr>\n",
       "    <tr>\n",
       "      <th>1</th>\n",
       "      <td>2</td>\n",
       "      <td>63.837</td>\n",
       "      <td>0.4741</td>\n",
       "      <td>0.5037</td>\n",
       "      <td>0.8444</td>\n",
       "    </tr>\n",
       "    <tr>\n",
       "      <th>2</th>\n",
       "      <td>3</td>\n",
       "      <td>95.756</td>\n",
       "      <td>0.5481</td>\n",
       "      <td>0.5925</td>\n",
       "      <td>0.9629</td>\n",
       "    </tr>\n",
       "    <tr>\n",
       "      <th>3</th>\n",
       "      <td>4</td>\n",
       "      <td>127.675</td>\n",
       "      <td>0.6074</td>\n",
       "      <td>0.6518</td>\n",
       "      <td>1.0667</td>\n",
       "    </tr>\n",
       "    <tr>\n",
       "      <th>4</th>\n",
       "      <td>5</td>\n",
       "      <td>159.593</td>\n",
       "      <td>0.6814</td>\n",
       "      <td>0.7259</td>\n",
       "      <td>1.0962</td>\n",
       "    </tr>\n",
       "  </tbody>\n",
       "</table>\n",
       "</div>"
      ],
      "text/plain": [
       "   Tiempo  (min)  Deslizamiento (m)  Tratamiento 2h  Tratamiento 4h  \\\n",
       "0              1             31.918          0.4000          0.3852   \n",
       "1              2             63.837          0.4741          0.5037   \n",
       "2              3             95.756          0.5481          0.5925   \n",
       "3              4            127.675          0.6074          0.6518   \n",
       "4              5            159.593          0.6814          0.7259   \n",
       "\n",
       "   Tratamiento 6h  \n",
       "0          0.7407  \n",
       "1          0.8444  \n",
       "2          0.9629  \n",
       "3          1.0667  \n",
       "4          1.0962  "
      ]
     },
     "execution_count": 2,
     "metadata": {},
     "output_type": "execute_result"
    }
   ],
   "source": [
    "path =r\"data/ensayo_desgaste.xlsx\"  # Archivo guardado               \n",
    "xl_file = pd.read_excel(path)       # Abrir \n",
    "xl_file                             # Mostrar"
   ]
  },
  {
   "cell_type": "code",
   "execution_count": 3,
   "metadata": {},
   "outputs": [],
   "source": [
    "def inch_to_cm(inch):\n",
    "    \"\"\" Conveirte de pulgadas a cm \"\"\"\n",
    "    return inch*2.54\n",
    "\n",
    "def cm_to_mm(cm):\n",
    "    \"\"\" Convierte de cm a mm\"\"\"\n",
    "    return cm*10\n",
    "def get_perimeter(diametro):\n",
    "    \"\"\" obtiene el perimetro \"\"\"\n",
    "    return np.pi*diametro\n",
    "\n",
    "def distance(rpm,perimeter,time, verbose=True):\n",
    "    \"\"\" Calcula la distancia recorriada por una rueda \"\"\"\n",
    "    dist =  cm_to_mm(rpm*perimeter*time)\n",
    "    if verbose:\n",
    "        print(F\"Distancia recorida para {time} min, {dist} mm\")\n",
    "    return  dist\n",
    "\n",
    "def mm3_to_mm(v):\n",
    "    \"\"\" Convierte de mm3 a mm\"\"\"\n",
    "    return v*1E-9\n"
   ]
  },
  {
   "cell_type": "code",
   "execution_count": 5,
   "metadata": {},
   "outputs": [
    {
     "name": "stdout",
     "output_type": "stream",
     "text": [
      "Distancia recorida para 1 min, 31918.5813604723 mm\n",
      "Distancia recorida para 2 min, 63837.1627209446 mm\n",
      "Distancia recorida para 3 min, 95755.7440814169 mm\n",
      "Distancia recorida para 4 min, 127674.3254418892 mm\n",
      "Distancia recorida para 5 min, 159592.9068023615 mm\n"
     ]
    }
   ],
   "source": [
    "#### Aqui colocamos la informacion que se nos proporciona ###\n",
    "densidad     =  6.92         # g/cm^3\n",
    "densidad_mm3 = densidad/1000 # g/mm^3\n",
    "dureza       =  1685         # Kg/mm^2\n",
    "carga        = 130           # N\n",
    "carga_kg     =  carga/9.81   # Kg\n",
    "H            =  1685         # Kg/mm3\n",
    "diametro     = inch_to_cm(8) # cm\n",
    "perimetro    =  get_perimeter(diametro) # inch\n",
    "ancho        =  inch_to_cm(0.5) # cm\n",
    "\n",
    "\n",
    "### Validar distancias en tabla ##\n",
    "min_1 = distance(rpm=50,perimeter=perimetro,time=1) # mm\n",
    "min_2 = distance(rpm=50,perimeter=perimetro,time=2) # mm\n",
    "min_3= distance(rpm=50,perimeter=perimetro,time=3) # mm\n",
    "min_4 = distance(rpm=50,perimeter=perimetro,time=4) # mm\n",
    "min_5 = distance(rpm=50,perimeter=perimetro,time=5) # mm\n"
   ]
  },
  {
   "cell_type": "markdown",
   "metadata": {},
   "source": [
    "### A)  Masa perdida\n",
    "Para obtener las masas para los diversos tratamientos  multipilcaremos el volumen por la densidad (la cual fue convertida a $ g/mm^3 $):"
   ]
  },
  {
   "cell_type": "code",
   "execution_count": 6,
   "metadata": {},
   "outputs": [
    {
     "name": "stdout",
     "output_type": "stream",
     "text": [
      "Masa en gramos [g]\n"
     ]
    },
    {
     "data": {
      "text/html": [
       "<div>\n",
       "<style scoped>\n",
       "    .dataframe tbody tr th:only-of-type {\n",
       "        vertical-align: middle;\n",
       "    }\n",
       "\n",
       "    .dataframe tbody tr th {\n",
       "        vertical-align: top;\n",
       "    }\n",
       "\n",
       "    .dataframe thead th {\n",
       "        text-align: right;\n",
       "    }\n",
       "</style>\n",
       "<table border=\"1\" class=\"dataframe\">\n",
       "  <thead>\n",
       "    <tr style=\"text-align: right;\">\n",
       "      <th></th>\n",
       "      <th>Tratamiento 2h</th>\n",
       "      <th>Tratamiento 4h</th>\n",
       "      <th>Tratamiento 6h</th>\n",
       "    </tr>\n",
       "  </thead>\n",
       "  <tbody>\n",
       "    <tr>\n",
       "      <th>0</th>\n",
       "      <td>0.002768</td>\n",
       "      <td>0.002666</td>\n",
       "      <td>0.005126</td>\n",
       "    </tr>\n",
       "    <tr>\n",
       "      <th>1</th>\n",
       "      <td>0.003281</td>\n",
       "      <td>0.003486</td>\n",
       "      <td>0.005843</td>\n",
       "    </tr>\n",
       "    <tr>\n",
       "      <th>2</th>\n",
       "      <td>0.003793</td>\n",
       "      <td>0.004100</td>\n",
       "      <td>0.006663</td>\n",
       "    </tr>\n",
       "    <tr>\n",
       "      <th>3</th>\n",
       "      <td>0.004203</td>\n",
       "      <td>0.004510</td>\n",
       "      <td>0.007382</td>\n",
       "    </tr>\n",
       "    <tr>\n",
       "      <th>4</th>\n",
       "      <td>0.004715</td>\n",
       "      <td>0.005023</td>\n",
       "      <td>0.007586</td>\n",
       "    </tr>\n",
       "  </tbody>\n",
       "</table>\n",
       "</div>"
      ],
      "text/plain": [
       "   Tratamiento 2h  Tratamiento 4h  Tratamiento 6h\n",
       "0        0.002768        0.002666        0.005126\n",
       "1        0.003281        0.003486        0.005843\n",
       "2        0.003793        0.004100        0.006663\n",
       "3        0.004203        0.004510        0.007382\n",
       "4        0.004715        0.005023        0.007586"
      ]
     },
     "execution_count": 6,
     "metadata": {},
     "output_type": "execute_result"
    }
   ],
   "source": [
    "masa = xl_file.iloc[:,2::].applymap(lambda x: x*densidad_mm3) # multiplicamos por densidad\n",
    "print(\"Masa en gramos [g]\")\n",
    "masa                       \n"
   ]
  },
  {
   "cell_type": "code",
   "execution_count": 7,
   "metadata": {},
   "outputs": [
    {
     "data": {
      "image/png": "[encoded data removed]",
      "text/plain": [
       "<Figure size 432x288 with 1 Axes>"
      ]
     },
     "metadata": {
      "needs_background": "light"
     },
     "output_type": "display_data"
    }
   ],
   "source": [
    "masa.plot()\n",
    "plt.title(\"Masa perdida\")\n",
    "plt.xlabel(\"Tiempo [min]\")\n",
    "plt.ylabel(\"Masa [g]\")\n",
    "plt.show()"
   ]
  },
  {
   "cell_type": "markdown",
   "metadata": {},
   "source": [
    "### B) Coeficiente de desgaste (K) "
   ]
  },
  {
   "cell_type": "code",
   "execution_count": 8,
   "metadata": {},
   "outputs": [],
   "source": [
    "def get_K(H,d,Fn,v):\n",
    "    # K = v(H)/Fnd\n",
    "    k = v*H/(Fn*d)\n",
    "    return   k\n",
    "\n",
    "def get_K_list(distancia_mm,tratamiento):\n",
    "    K = list()\n",
    "    for d,v in zip(distancia_mm,tratamiento ):\n",
    "        k =  get_K(H=H,d=d,Fn=carga_kg ,v=v)\n",
    "        K.append(k)\n",
    "    K = np.array(K)\n",
    "    return K"
   ]
  },
  {
   "cell_type": "code",
   "execution_count": 16,
   "metadata": {},
   "outputs": [
    {
     "data": {
      "image/png": "[encoded data removed]",
      "text/plain": [
       "<Figure size 432x288 with 1 Axes>"
      ]
     },
     "metadata": {
      "needs_background": "light"
     },
     "output_type": "display_data"
    }
   ],
   "source": [
    "distancia_mm = np.array([min_1,min_2,min_3,min_4,min_5]) # Distancia en mm\n",
    "tiempo = np.array([1,2,3,4,5])                 # Tiempo en min\n",
    "tratamiento_2h= xl_file.iloc[:,2:3].to_numpy() # Volumen en mm^3\n",
    "tratamiento_4h= xl_file.iloc[:,3:4].to_numpy() # Volumen en mm^3\n",
    "tratamiento_6h= xl_file.iloc[:,4:5].to_numpy() # Volumen en mm^3\n",
    "K_2 = get_K_list(distancia_mm,tratamiento_2h)  # K\n",
    "K_4 = get_K_list(distancia_mm,tratamiento_4h)  # K\n",
    "K_6 = get_K_list(distancia_mm,tratamiento_6h)  # K\n",
    "\n",
    "\n",
    "plt.plot(tiempo,K_2,\"b--\",label=\"Tratamiento  2h\")\n",
    "plt.plot(tiempo,K_4,\"r--\",label=\"Tratamiento  4h\")\n",
    "plt.plot(tiempo,K_6,\"g--\",label=\"Tratamiento  6h\")\n",
    "plt.xlabel(\"tiempo de tratamiento (min)\")\n",
    "plt.ylabel(\"K\")\n",
    "plt.title(\"Coeficeinte de desgaste durante tiempo de prueba \")\n",
    "plt.legend()\n",
    "plt.tight_layout()\n",
    "plt.show()"
   ]
  },
  {
   "cell_type": "markdown",
   "metadata": {},
   "source": [
    "Observamos que en general un tratamiento de dos horas, entrega  un desgaste menor, esto apunta hacia la posibilidad de que si se expone el material a un tratamiento de mayor tiempo, este no obtiene beneficio, al contrario, su coefcieinte de desgaste aumenta!"
   ]
  },
  {
   "cell_type": "markdown",
   "metadata": {},
   "source": [
    "### C)  Profunidad de Huella"
   ]
  },
  {
   "cell_type": "code",
   "execution_count": 24,
   "metadata": {},
   "outputs": [],
   "source": [
    "def get_huella(area,tratamiento):\n",
    "    huella= list()\n",
    "    for a,v in zip(area,tratamiento ):\n",
    "        h  = v/a\n",
    "        huella.append(h)\n",
    "    huella = np.array(huella)\n",
    "    return huella"
   ]
  },
  {
   "cell_type": "code",
   "execution_count": 39,
   "metadata": {},
   "outputs": [
    {
     "data": {
      "image/png": "[encoded data removed]",
      "text/plain": [
       "<Figure size 432x288 with 1 Axes>"
      ]
     },
     "metadata": {
      "needs_background": "light"
     },
     "output_type": "display_data"
    }
   ],
   "source": [
    "longitud = np.array([6.5, 7.0, 7.5, 8.0, 8.5]) # cm\n",
    "longitud_mm = longitud*10                      # mm\n",
    "ancho =  inch_to_cm(0.5)                       # cm\n",
    "ancho_mm = ancho*10                            # mm\n",
    "area_mm = longitud_mm*ancho_mm                 # mm^2\n",
    "tratamiento_2h= xl_file.iloc[:,2:3].to_numpy() # Volumen en mm^3\n",
    "tratamiento_4h= xl_file.iloc[:,3:4].to_numpy() # Volumen en mm^3\n",
    "tratamiento_6h= xl_file.iloc[:,4:5].to_numpy() # Volumen en mm^3\n",
    "\n",
    "H_2 = get_huella(area_mm,tratamiento_2h)  # mm\n",
    "H_4 = get_huella(area_mm,tratamiento_4h)  # mm\n",
    "H_6 = get_huella(area_mm,tratamiento_6h)  # mm\n",
    "\n",
    "plt.plot(tiempo,H_2,\"b--\",label=\"Tratamiento  2h\")\n",
    "plt.plot(tiempo,H_4,\"r--\",label=\"Tratamiento  4h\")\n",
    "plt.plot(tiempo,H_6,\"g--\",label=\"Tratamiento  6h\")\n",
    "plt.xlabel(\"tiempo de tratamiento (min)\")\n",
    "plt.ylabel(\"Huella [mm]\")\n",
    "plt.title(\"Huella de desgaste durante tiempo de prueba \")\n",
    "plt.legend()\n",
    "plt.tight_layout()\n",
    "plt.show()"
   ]
  }
 ],
 "metadata": {
  "kernelspec": {
   "display_name": "Python 3",
   "language": "python",
   "name": "python3"
  },
  "language_info": {
   "codemirror_mode": {
    "name": "ipython",
    "version": 3
   },
   "file_extension": ".py",
   "mimetype": "text/x-python",
   "name": "python",
   "nbconvert_exporter": "python",
   "pygments_lexer": "ipython3",
   "version": "3.7.7"
  }
 },
 "nbformat": 4,
 "nbformat_minor": 4
}
